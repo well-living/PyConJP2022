{
 "cells": [
  {
   "cell_type": "markdown",
   "id": "b1f7ff4e",
   "metadata": {},
   "source": [
    "# PyConJP2022\n",
    "## 公的統計APIデータ取得PythonライブラリJPy-DataReader"
   ]
  },
  {
   "cell_type": "code",
   "execution_count": null,
   "id": "d226f19d",
   "metadata": {},
   "outputs": [],
   "source": [
    "%%HTML\n",
    "<style>\n",
    "    div#notebook-container    { width: 95%; }\n",
    "    div#menubar-container     { width: 65%; }\n",
    "    div#maintoolbar-container { width: 99%; }\n",
    "</style>"
   ]
  },
  {
   "cell_type": "markdown",
   "id": "0f5c4935",
   "metadata": {},
   "source": [
    "# e-Stat API機能の事前準備"
   ]
  },
  {
   "cell_type": "markdown",
   "id": "6c029aa0",
   "metadata": {},
   "source": [
    "e-Stat API機能に事前に[ユーザー登録](https://www.e-stat.go.jp/mypage/user/preregister)して、アプリケーションIDをを取得します。"
   ]
  },
  {
   "cell_type": "code",
   "execution_count": null,
   "id": "c9e8d1ff",
   "metadata": {},
   "outputs": [],
   "source": [
    "api_key = \"Your_Application_ID\" # 取得したアプリケーションID　"
   ]
  },
  {
   "cell_type": "markdown",
   "id": "ad438130",
   "metadata": {},
   "source": [
    "# e-Stat API機能でのデータ取得"
   ]
  },
  {
   "cell_type": "markdown",
   "id": "8cd13734",
   "metadata": {},
   "source": [
    "statsDataIdは「統計表情報取得」で得られる統計表IDです。e-Statの[データベース](https://www.e-stat.go.jp/stat-search/database?page=1)から検索できます。「政府統計コード」ではなく、「統計表表示 ID」です。"
   ]
  },
  {
   "cell_type": "markdown",
   "id": "92e5551b",
   "metadata": {},
   "source": [
    "## requestsでのデータ取得"
   ]
  },
  {
   "cell_type": "markdown",
   "id": "db93470b",
   "metadata": {},
   "source": [
    "まず、JPy-DataReaderを使わず、requestsでデータ取得してみます。"
   ]
  },
  {
   "cell_type": "code",
   "execution_count": null,
   "id": "8a94e188",
   "metadata": {},
   "outputs": [],
   "source": [
    "!pip install requests"
   ]
  },
  {
   "cell_type": "code",
   "execution_count": null,
   "id": "c7e32871",
   "metadata": {},
   "outputs": [],
   "source": [
    "import requests\n",
    "\n",
    "url = \"https://api.e-stat.go.jp/rest/3.0/app/json/getStatsData?\"\n",
    "params = {\n",
    "    \"appId\": api_key,\n",
    "    \"statsDataId\": \"0003000795\",\n",
    "}\n",
    "\n",
    "res = requests.get(url, params)\n",
    "out = res.json()\n",
    "\n",
    "out"
   ]
  },
  {
   "cell_type": "markdown",
   "id": "e405fa31",
   "metadata": {},
   "source": [
    "JSONの中身を見てみます。"
   ]
  },
  {
   "cell_type": "code",
   "execution_count": null,
   "id": "932e377a",
   "metadata": {},
   "outputs": [],
   "source": [
    "out.keys()"
   ]
  },
  {
   "cell_type": "code",
   "execution_count": null,
   "id": "d966a8e0",
   "metadata": {},
   "outputs": [],
   "source": [
    "out['GET_STATS_DATA'].keys()"
   ]
  },
  {
   "cell_type": "code",
   "execution_count": null,
   "id": "3beed666",
   "metadata": {},
   "outputs": [],
   "source": [
    "out['GET_STATS_DATA']['STATISTICAL_DATA'].keys()"
   ]
  },
  {
   "cell_type": "code",
   "execution_count": null,
   "id": "df61ea6a",
   "metadata": {},
   "outputs": [],
   "source": [
    "out['GET_STATS_DATA']['STATISTICAL_DATA'][ 'DATA_INF'].keys()"
   ]
  },
  {
   "cell_type": "markdown",
   "id": "63b85d01",
   "metadata": {},
   "source": [
    "統計データ自体は以下に格納されています。"
   ]
  },
  {
   "cell_type": "code",
   "execution_count": null,
   "id": "e11e6fc0",
   "metadata": {},
   "outputs": [],
   "source": [
    "out['GET_STATS_DATA']['STATISTICAL_DATA'][ 'DATA_INF']['VALUE']"
   ]
  },
  {
   "cell_type": "markdown",
   "id": "f559db14",
   "metadata": {},
   "source": [
    "pandasのデータフレーム形式で読み込みます。"
   ]
  },
  {
   "cell_type": "code",
   "execution_count": null,
   "id": "928974e4",
   "metadata": {},
   "outputs": [],
   "source": [
    "!pip install pandas"
   ]
  },
  {
   "cell_type": "code",
   "execution_count": null,
   "id": "cd58f74f",
   "metadata": {
    "scrolled": false
   },
   "outputs": [],
   "source": [
    "import pandas as pd\n",
    "\n",
    "df = pd.DataFrame(out['GET_STATS_DATA']['STATISTICAL_DATA'][ 'DATA_INF']['VALUE'])\n",
    "df"
   ]
  },
  {
   "cell_type": "markdown",
   "id": "b2d30f23",
   "metadata": {},
   "source": [
    "VALUEだけでは、それぞれの列が何を表しているのかわかりません。各列のメタデータはCLASS_INFに格納されており、列ID名で結合することができます。"
   ]
  },
  {
   "cell_type": "code",
   "execution_count": null,
   "id": "14348138",
   "metadata": {},
   "outputs": [],
   "source": [
    "out['GET_STATS_DATA']['STATISTICAL_DATA']['CLASS_INF']['CLASS_OBJ']"
   ]
  },
  {
   "cell_type": "code",
   "execution_count": null,
   "id": "6b0b4c9a",
   "metadata": {},
   "outputs": [],
   "source": [
    "pd.DataFrame(out['GET_STATS_DATA']['STATISTICAL_DATA']['CLASS_INF']['CLASS_OBJ'][1][ 'CLASS'])"
   ]
  },
  {
   "cell_type": "markdown",
   "id": "eb868084",
   "metadata": {},
   "source": [
    "値の列「$」を見ると、数値でない欠損と思われる特殊文字があります。"
   ]
  },
  {
   "cell_type": "code",
   "execution_count": null,
   "id": "6fdef1d0",
   "metadata": {},
   "outputs": [],
   "source": [
    "sorted(df['$'].unique().tolist())"
   ]
  },
  {
   "cell_type": "markdown",
   "id": "ae127417",
   "metadata": {},
   "source": [
    "特殊文字はNOTEで、どのような種類があるかとその意味を調べることができます。"
   ]
  },
  {
   "cell_type": "code",
   "execution_count": null,
   "id": "08866258",
   "metadata": {},
   "outputs": [],
   "source": [
    "out['GET_STATS_DATA']['STATISTICAL_DATA'][ 'DATA_INF']['NOTE']"
   ]
  },
  {
   "cell_type": "markdown",
   "id": "ccb92ae0",
   "metadata": {},
   "source": [
    "# JPy-DataReaderでデータ取得"
   ]
  },
  {
   "cell_type": "markdown",
   "id": "59b69dc0",
   "metadata": {},
   "source": [
    "e-Statなど公的統計APIからデータを取得するPythonのライブラリJPy-DataReaderを作りました。"
   ]
  },
  {
   "cell_type": "code",
   "execution_count": null,
   "id": "3629da58",
   "metadata": {},
   "outputs": [],
   "source": [
    "!pip install jpy-datareader"
   ]
  },
  {
   "cell_type": "markdown",
   "id": "e14a070f",
   "metadata": {},
   "source": [
    "さくっとデータ取得する場合、以下の２行でデータ取得とデータ加工ができます。"
   ]
  },
  {
   "cell_type": "code",
   "execution_count": null,
   "id": "9a9b1ef0",
   "metadata": {},
   "outputs": [],
   "source": [
    "import jpy_datareader as jdr\n",
    "jdr.get_data_estat_statsdata(api_key, statsDataId=\"0003000795\")"
   ]
  },
  {
   "cell_type": "markdown",
   "id": "274b7b35",
   "metadata": {},
   "source": [
    "以下も同じ挙動です。"
   ]
  },
  {
   "cell_type": "code",
   "execution_count": null,
   "id": "b8b4ed35",
   "metadata": {},
   "outputs": [],
   "source": [
    "import jpy_datareader.data as web\n",
    "web.DataReader(\"0003000795\", \"estat\", api_key=api_key)"
   ]
  },
  {
   "cell_type": "markdown",
   "id": "eb2d32e4",
   "metadata": {},
   "source": [
    "よくデータ取得に使われる[pandas-datareader](https://pandas-datareader.readthedocs.io/en/latest/)に仕様を似せています。"
   ]
  },
  {
   "cell_type": "code",
   "execution_count": null,
   "id": "f80a823e",
   "metadata": {},
   "outputs": [],
   "source": [
    "!pip install pandas-datareader"
   ]
  },
  {
   "cell_type": "code",
   "execution_count": null,
   "id": "09574591",
   "metadata": {},
   "outputs": [],
   "source": [
    "import pandas_datareader as pdr\n",
    "pdr.get_data_fred('GS10').tail(10)  # 10年満期米国債市場金利"
   ]
  },
  {
   "cell_type": "code",
   "execution_count": null,
   "id": "8d844484",
   "metadata": {},
   "outputs": [],
   "source": [
    "import pandas_datareader.data as web\n",
    "web.DataReader('TUD', 'oecd')  # 労働組合データ"
   ]
  },
  {
   "cell_type": "code",
   "execution_count": null,
   "id": "5023ec58",
   "metadata": {},
   "outputs": [],
   "source": [
    "from pandas_datareader import fred\n",
    "fred.FredReader('GS10').read()"
   ]
  },
  {
   "cell_type": "markdown",
   "id": "41b01bb0",
   "metadata": {},
   "source": [
    "もう少し細かく設定してデータ取得したい場合には、以下を使います。"
   ]
  },
  {
   "cell_type": "code",
   "execution_count": null,
   "id": "d1304def",
   "metadata": {},
   "outputs": [],
   "source": [
    "from jpy_datareader import estat\n",
    "estat.StatsDataReader(api_key, statsDataId=\"0003000795\").read()"
   ]
  },
  {
   "cell_type": "code",
   "execution_count": null,
   "id": "dcb79ceb",
   "metadata": {},
   "outputs": [],
   "source": [
    "df"
   ]
  },
  {
   "cell_type": "markdown",
   "id": "1e59c990",
   "metadata": {},
   "source": [
    "# JPy-DataReaderのサンプルコード"
   ]
  },
  {
   "cell_type": "markdown",
   "id": "031506b8",
   "metadata": {},
   "source": [
    "### 人口推計のデータを扱いたいとき"
   ]
  },
  {
   "cell_type": "code",
   "execution_count": null,
   "id": "0e842b05",
   "metadata": {},
   "outputs": [],
   "source": [
    "from jpy_datareader import estat\n",
    "df = estat.StatsDataReader(api_key, statsDataId=\"0003448228\").read()\n",
    "cond = df[\"男女別・性比名\"] == \"男女計\"\n",
    "cond &= df[\"人口名\"] == \"日本人人口\"\n",
    "cond &= df[\"年齢各歳名\"] != \"総数\"\n",
    "cond &= df[\"時間軸（年月日現在）名\"] == \"2021年10月1日現在\"\n",
    "population = df[cond][[\"分類03_コード\", \"年齢各歳名\", \"値\"]]\n",
    "population[\"年齢\"] = population[\"分類03_コード\"].astype(int) - 1001\n",
    "working_age_population = int(population[(population[\"年齢\"]>=15)&(population[\"年齢\"]<65)][\"値\"].sum())\n",
    "print(\"生産年齢人口: \", working_age_population, \", 生産年齢除く人口: \", int(population[\"値\"].sum() - working_age_population))"
   ]
  },
  {
   "cell_type": "markdown",
   "id": "9d0e77aa",
   "metadata": {},
   "source": [
    "分割して見ていきます。"
   ]
  },
  {
   "cell_type": "markdown",
   "id": "60fb0037",
   "metadata": {},
   "source": [
    "人口推計のデータを取得します。"
   ]
  },
  {
   "cell_type": "code",
   "execution_count": null,
   "id": "bc33ce1f",
   "metadata": {},
   "outputs": [],
   "source": [
    "from jpy_datareader import estat\n",
    "df = estat.StatsDataReader(api_key, statsDataId=\"0003448228\").read()"
   ]
  },
  {
   "cell_type": "markdown",
   "id": "0e557413",
   "metadata": {},
   "source": [
    "条件指定して必要なデータを抽出します。int型の年齢は、メタデータから「歳」を取り除くことでもできますが、ここでは分類コードを利用して出力しています。"
   ]
  },
  {
   "cell_type": "code",
   "execution_count": null,
   "id": "b5e33975",
   "metadata": {},
   "outputs": [],
   "source": [
    "cond = df[\"男女別・性比名\"] == \"男女計\"\n",
    "cond &= df[\"人口名\"] == \"日本人人口\"\n",
    "cond &= df[\"年齢各歳名\"] != \"総数\"\n",
    "cond &= df[\"時間軸（年月日現在）名\"] == \"2021年10月1日現在\"\n",
    "population = df[cond][[\"分類03_コード\", \"年齢各歳名\", \"値\"]]\n",
    "population[\"年齢\"] = population[\"分類03_コード\"].astype(int) - 1001"
   ]
  },
  {
   "cell_type": "markdown",
   "id": "0c5b714a",
   "metadata": {},
   "source": [
    "日本の人口は約1億2千6百万人。では、15〜64歳の生産年齢人口とそれ以外の人口、どちらが多いか(2021年)を計算してみます。"
   ]
  },
  {
   "cell_type": "code",
   "execution_count": null,
   "id": "6c53643b",
   "metadata": {},
   "outputs": [],
   "source": [
    "working_age_population = int(population[(population[\"年齢\"]>=15)&(population[\"年齢\"]<65)][\"値\"].sum())\n",
    "print(\"生産年齢人口: \", working_age_population, \", 生産年齢除く人口: \", int(population[\"値\"].sum() - working_age_population))"
   ]
  },
  {
   "cell_type": "markdown",
   "id": "c15ae4e4",
   "metadata": {},
   "source": [
    "### 経済センサスを扱いたいとき"
   ]
  },
  {
   "cell_type": "code",
   "execution_count": null,
   "id": "b46caaff",
   "metadata": {},
   "outputs": [],
   "source": [
    "from jpy_datareader import estat\n",
    "statsdata = estat.StatsDataReader(api_key, statsDataId=\"0003449721\", \n",
    "    cdTab=\"202-2021\", cdArea=\"00000\",\n",
    "    cdCat02=\"00\", cdCat03=\"00\")\n",
    "df = statsdata.read(normal=True)\n",
    "cond = df[\"単一・複数名\"] == \"総数\"\n",
    "cond &= (df[\"企業産業大分類名\"] == \"情報通信業\") | (df[\"企業産業大分類名\"] == \"医療，福祉\")\n",
    "df[cond][[\"企業産業大分類名\", \"値\"]]"
   ]
  },
  {
   "cell_type": "markdown",
   "id": "e5fbb3ca",
   "metadata": {},
   "source": [
    "データ数が多いとき(10万件以上目安)はメタ情報を確認して、分割して必要なデータのみ取得するのをおすすめします。"
   ]
  },
  {
   "cell_type": "code",
   "execution_count": null,
   "id": "85c473d8",
   "metadata": {},
   "outputs": [],
   "source": [
    "metainfo = estat.MetaInfoReader(api_key, statsDataId=\"0003449721\", name_or_id=\"name\")\n",
    "meta = metainfo.read()\n",
    "metainfo.OVERALL_TOTAL_NUMBER"
   ]
  },
  {
   "cell_type": "markdown",
   "id": "281736ea",
   "metadata": {},
   "source": [
    "各属性のメタ情報をDataFrameの辞書で取得しています。"
   ]
  },
  {
   "cell_type": "code",
   "execution_count": null,
   "id": "24f2a285",
   "metadata": {},
   "outputs": [],
   "source": [
    "meta.keys()"
   ]
  },
  {
   "cell_type": "markdown",
   "id": "5242f200",
   "metadata": {},
   "source": [
    "条件指定する際の各コード値の意味を調べます。"
   ]
  },
  {
   "cell_type": "code",
   "execution_count": null,
   "id": "1f74e742",
   "metadata": {},
   "outputs": [],
   "source": [
    "meta['tab']"
   ]
  },
  {
   "cell_type": "markdown",
   "id": "c534524c",
   "metadata": {},
   "source": [
    "条件を指定してデータ取得します"
   ]
  },
  {
   "cell_type": "code",
   "execution_count": null,
   "id": "df1f01b0",
   "metadata": {},
   "outputs": [],
   "source": [
    "statsdata = estat.StatsDataReader(api_key, statsDataId=\"0003449721\", \n",
    "    cdTab=\"202-2021\", cdArea=\"00000\",\n",
    "    cdCat02=\"00\", cdCat03=\"00\")\n",
    "df = statsdata.read(normal=True)"
   ]
  },
  {
   "cell_type": "markdown",
   "id": "2e8f60f4",
   "metadata": {},
   "source": [
    "日本の企業数は、「情報通信業」と「医療，福祉業」だとどちらが多いかを見てみます。"
   ]
  },
  {
   "cell_type": "code",
   "execution_count": null,
   "id": "4062601f",
   "metadata": {},
   "outputs": [],
   "source": [
    "cond = df[\"単一・複数名\"] == \"総数\"\n",
    "cond &= (df[\"企業産業大分類名\"] == \"情報通信業\") | (df[\"企業産業大分類名\"] == \"医療，福祉\")\n",
    "df[cond][[\"企業産業大分類名\", \"値\"]]"
   ]
  },
  {
   "cell_type": "code",
   "execution_count": null,
   "id": "f4d7a34e",
   "metadata": {},
   "outputs": [],
   "source": []
  },
  {
   "cell_type": "markdown",
   "id": "a905a0d2",
   "metadata": {},
   "source": [
    "### 家計調査を扱いたいとき"
   ]
  },
  {
   "cell_type": "code",
   "execution_count": null,
   "id": "da838d11",
   "metadata": {},
   "outputs": [],
   "source": [
    "import jpy_datareader.data as web\n",
    "df = web.DataReader(\"0002210018\", \"estat\", api_key=api_key)\n",
    "cond = df[\"貯蓄・負債\"] == \"貯蓄\"\n",
    "cond &= df[\"世帯区分\"] == \"二人以上の世帯（2000年～）\"\n",
    "cond &= df[\"世帯主の年齢階級\"] == \"60～69歳\"\n",
    "cond &= df[\"世帯の負債有無\"] == \"全世帯\"\n",
    "cond &= df[\"時間軸（年次）\"] == \"2021年\"\n",
    "df[cond]"
   ]
  },
  {
   "cell_type": "markdown",
   "id": "530c05f6",
   "metadata": {},
   "source": [
    "分割して見ていきます。\n",
    "家計調査 貯蓄・負債編のデータを取得します。"
   ]
  },
  {
   "cell_type": "code",
   "execution_count": null,
   "id": "39ff2b4c",
   "metadata": {},
   "outputs": [],
   "source": [
    "import jpy_datareader.data as web\n",
    "df = web.DataReader(\"0002210018\", \"estat\", api_key=api_key)\n",
    "df"
   ]
  },
  {
   "cell_type": "markdown",
   "id": "c9ff94b4",
   "metadata": {},
   "source": [
    "60～69歳の平均貯蓄額は3,000万円を超えているか(2021年)を調べてみます。\n",
    "条件指定して必要なデータを抽出します。"
   ]
  },
  {
   "cell_type": "code",
   "execution_count": null,
   "id": "fa9d1fbb",
   "metadata": {},
   "outputs": [],
   "source": [
    "cond = df[\"貯蓄・負債\"] == \"貯蓄\"\n",
    "cond &= df[\"世帯区分\"] == \"二人以上の世帯（2000年～）\"\n",
    "cond &= df[\"世帯主の年齢階級\"] == \"60～69歳\"\n",
    "cond &= df[\"世帯の負債有無\"] == \"全世帯\"\n",
    "cond &= df[\"時間軸（年次）\"] == \"2021年\"\n",
    "df[cond]"
   ]
  },
  {
   "cell_type": "markdown",
   "id": "abb05fdb",
   "metadata": {},
   "source": [
    "# おまけ:plotlyで可視化してみる"
   ]
  },
  {
   "cell_type": "code",
   "execution_count": null,
   "id": "02c99b1f",
   "metadata": {},
   "outputs": [],
   "source": [
    "!pip install plotly"
   ]
  },
  {
   "cell_type": "code",
   "execution_count": null,
   "id": "34108cdb",
   "metadata": {},
   "outputs": [],
   "source": [
    "import plotly\n",
    "import plotly.graph_objects as go\n",
    "import plotly.express as px"
   ]
  },
  {
   "cell_type": "code",
   "execution_count": null,
   "id": "d1e8692d",
   "metadata": {},
   "outputs": [],
   "source": [
    "statsdata = estat.StatsDataReader(api_key, statsDataId=\"0003449721\", \n",
    "    cdTab=\"202-2021\", cdCat02=\"00\", cdCat03=\"00\")\n",
    "df = statsdata.read(normal=True)\n",
    "df = df[df[\"単一・複数名\"] == \"総数\"]"
   ]
  },
  {
   "cell_type": "code",
   "execution_count": null,
   "id": "25dfe5c3",
   "metadata": {},
   "outputs": [],
   "source": [
    "df[\"都道府県\"] = df[\"地域_コード\"].str[:2] + df[\"地域名\"]\n",
    "ecensus_df = df[[\"企業産業大分類名\", \"都道府県\",\"値\"]]\n",
    "cond = (ecensus_df[\"企業産業大分類名\"] != \"全産業（S_公務を除く）\") & (ecensus_df[\"企業産業大分類名\"] != \"非農林漁業（S_公務を除く）\")\n",
    "cond &= ecensus_df[\"都道府県\"] != \"00全国\"\n",
    "ecensus_df = ecensus_df[cond]"
   ]
  },
  {
   "cell_type": "code",
   "execution_count": null,
   "id": "b44a26eb",
   "metadata": {},
   "outputs": [],
   "source": [
    "fig = px.bar(ecensus_df, \n",
    "             x='都道府県',\n",
    "             y='値', \n",
    "             color='企業産業大分類名',\n",
    "             )\n",
    "fig"
   ]
  },
  {
   "cell_type": "code",
   "execution_count": null,
   "id": "54ca4f54",
   "metadata": {},
   "outputs": [],
   "source": []
  }
 ],
 "metadata": {
  "kernelspec": {
   "display_name": "Python 3 (ipykernel)",
   "language": "python",
   "name": "python3"
  },
  "language_info": {
   "codemirror_mode": {
    "name": "ipython",
    "version": 3
   },
   "file_extension": ".py",
   "mimetype": "text/x-python",
   "name": "python",
   "nbconvert_exporter": "python",
   "pygments_lexer": "ipython3",
   "version": "3.10.2"
  }
 },
 "nbformat": 4,
 "nbformat_minor": 5
}
