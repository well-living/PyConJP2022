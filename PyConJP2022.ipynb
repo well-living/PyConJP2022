{
 "cells": [
  {
   "cell_type": "markdown",
   "id": "b1f7ff4e",
   "metadata": {},
   "source": [
    "# PyConJP2022\n",
    "## 公的統計APIデータ取得PythonライブラリJPy-DataReader"
   ]
  },
  {
   "cell_type": "code",
   "execution_count": null,
   "id": "d226f19d",
   "metadata": {},
   "outputs": [],
   "source": [
    "%%HTML\n",
    "<style>\n",
    "    div#notebook-container    { width: 95%; }\n",
    "    div#menubar-container     { width: 65%; }\n",
    "    div#maintoolbar-container { width: 99%; }\n",
    "</style>"
   ]
  },
  {
   "cell_type": "markdown",
   "id": "0f5c4935",
   "metadata": {},
   "source": [
    "# e-Stat API機能の事前準備"
   ]
  },
  {
   "cell_type": "markdown",
   "id": "6c029aa0",
   "metadata": {},
   "source": [
    "e-Stat API機能に事前に[ユーザー登録](https://www.e-stat.go.jp/mypage/user/preregister)して、アプリケーションIDをを取得します。"
   ]
  },
  {
   "cell_type": "code",
   "execution_count": null,
   "id": "c9e8d1ff",
   "metadata": {},
   "outputs": [],
   "source": [
    "api_key = \"Your_Application_ID\" # 取得したアプリケーションID　"
   ]
  },
  {
   "cell_type": "markdown",
   "id": "0e9d2158",
   "metadata": {},
   "source": [
    "アプリケーションIDを環境変数に設定しておくと便利です。"
   ]
  },
  {
   "cell_type": "code",
   "execution_count": null,
   "id": "7f130af6",
   "metadata": {},
   "outputs": [],
   "source": [
    "!export ESTAT_API_KEY=\"Your_Application_ID\""
   ]
  },
  {
   "cell_type": "code",
   "execution_count": null,
   "id": "57cd79b7",
   "metadata": {},
   "outputs": [],
   "source": [
    "# 環境変数エクスポート後、再度Notebookの立ち上げが必要\n",
    "import os\n",
    "api_key = os.getenv(\"ESTAT_API_KEY\")"
   ]
  },
  {
   "cell_type": "markdown",
   "id": "ad438130",
   "metadata": {},
   "source": [
    "# e-Stat API機能でのデータ取得"
   ]
  },
  {
   "cell_type": "markdown",
   "id": "8cd13734",
   "metadata": {},
   "source": [
    "statsDataIdは「統計表情報取得」で得られる統計表IDです。e-Statの[データベース](https://www.e-stat.go.jp/stat-search/database?page=1)から検索できます。「政府統計コード」ではなく、「統計表表示 ID」です。"
   ]
  },
  {
   "cell_type": "markdown",
   "id": "92e5551b",
   "metadata": {},
   "source": [
    "## requestsでのデータ取得"
   ]
  },
  {
   "cell_type": "markdown",
   "id": "db93470b",
   "metadata": {},
   "source": [
    "まず、JPy-DataReaderを使わず、requestsでデータ取得してみます。"
   ]
  },
  {
   "cell_type": "code",
   "execution_count": null,
   "id": "8a94e188",
   "metadata": {},
   "outputs": [],
   "source": [
    "!pip install requests"
   ]
  },
  {
   "cell_type": "code",
   "execution_count": null,
   "id": "c7e32871",
   "metadata": {},
   "outputs": [],
   "source": [
    "import requests\n",
    "\n",
    "url = \"https://api.e-stat.go.jp/rest/3.0/app/json/getStatsData?\"\n",
    "params = {\n",
    "    \"appId\": api_key,\n",
    "    \"statsDataId\": \"0003000795\",\n",
    "}\n",
    "\n",
    "res = requests.get(url, params)\n",
    "out = res.json()\n",
    "\n",
    "out"
   ]
  },
  {
   "cell_type": "markdown",
   "id": "e405fa31",
   "metadata": {},
   "source": [
    "JSONの中身を見てみます。"
   ]
  },
  {
   "cell_type": "code",
   "execution_count": null,
   "id": "932e377a",
   "metadata": {},
   "outputs": [],
   "source": [
    "out.keys()"
   ]
  },
  {
   "cell_type": "code",
   "execution_count": null,
   "id": "d966a8e0",
   "metadata": {},
   "outputs": [],
   "source": [
    "out['GET_STATS_DATA'].keys()"
   ]
  },
  {
   "cell_type": "code",
   "execution_count": null,
   "id": "3beed666",
   "metadata": {},
   "outputs": [],
   "source": [
    "out['GET_STATS_DATA']['STATISTICAL_DATA'].keys()"
   ]
  },
  {
   "cell_type": "code",
   "execution_count": null,
   "id": "df61ea6a",
   "metadata": {},
   "outputs": [],
   "source": [
    "out['GET_STATS_DATA']['STATISTICAL_DATA'][ 'DATA_INF'].keys()"
   ]
  },
  {
   "cell_type": "markdown",
   "id": "63b85d01",
   "metadata": {},
   "source": [
    "統計データ自体は以下に格納されています。"
   ]
  },
  {
   "cell_type": "code",
   "execution_count": null,
   "id": "e11e6fc0",
   "metadata": {},
   "outputs": [],
   "source": [
    "out['GET_STATS_DATA']['STATISTICAL_DATA'][ 'DATA_INF']['VALUE']"
   ]
  },
  {
   "cell_type": "markdown",
   "id": "f559db14",
   "metadata": {},
   "source": [
    "pandasのデータフレーム形式で読み込みます。"
   ]
  },
  {
   "cell_type": "code",
   "execution_count": null,
   "id": "928974e4",
   "metadata": {},
   "outputs": [],
   "source": [
    "!pip install pandas"
   ]
  },
  {
   "cell_type": "code",
   "execution_count": null,
   "id": "cd58f74f",
   "metadata": {},
   "outputs": [],
   "source": [
    "import pandas as pd\n",
    "\n",
    "df = pd.DataFrame(out['GET_STATS_DATA']['STATISTICAL_DATA'][ 'DATA_INF']['VALUE'])\n",
    "df"
   ]
  },
  {
   "cell_type": "markdown",
   "id": "b2d30f23",
   "metadata": {},
   "source": [
    "VALUEだけでは、それぞれの列が何を表しているのかわかりません。各列のメタデータはCLASS_INFに格納されており、列ID名で結合することができます。"
   ]
  },
  {
   "cell_type": "code",
   "execution_count": null,
   "id": "14348138",
   "metadata": {},
   "outputs": [],
   "source": [
    "out['GET_STATS_DATA']['STATISTICAL_DATA']['CLASS_INF']['CLASS_OBJ']"
   ]
  },
  {
   "cell_type": "code",
   "execution_count": null,
   "id": "6b0b4c9a",
   "metadata": {},
   "outputs": [],
   "source": [
    "pd.DataFrame(out['GET_STATS_DATA']['STATISTICAL_DATA']['CLASS_INF']['CLASS_OBJ'][1][ 'CLASS'])"
   ]
  },
  {
   "cell_type": "markdown",
   "id": "eb868084",
   "metadata": {},
   "source": [
    "値の列「$」を見ると、数値でない欠損と思われる特殊文字があります。"
   ]
  },
  {
   "cell_type": "code",
   "execution_count": null,
   "id": "6fdef1d0",
   "metadata": {},
   "outputs": [],
   "source": [
    "sorted(df['$'].unique().tolist())"
   ]
  },
  {
   "cell_type": "markdown",
   "id": "ae127417",
   "metadata": {},
   "source": [
    "特殊文字はNOTEで、どのような種類があるかとその意味を調べることができます。"
   ]
  },
  {
   "cell_type": "code",
   "execution_count": null,
   "id": "08866258",
   "metadata": {},
   "outputs": [],
   "source": [
    "out['GET_STATS_DATA']['STATISTICAL_DATA'][ 'DATA_INF']['NOTE']"
   ]
  },
  {
   "cell_type": "markdown",
   "id": "ccb92ae0",
   "metadata": {},
   "source": [
    "# JPy-DataReaderでデータ取得"
   ]
  },
  {
   "cell_type": "markdown",
   "id": "59b69dc0",
   "metadata": {},
   "source": [
    "e-Statなど公的統計APIからデータを取得するPythonのライブラリJPy-DataReaderを作りました。"
   ]
  },
  {
   "cell_type": "code",
   "execution_count": null,
   "id": "3629da58",
   "metadata": {},
   "outputs": [],
   "source": [
    "!pip install -U jpy-datareader"
   ]
  },
  {
   "cell_type": "markdown",
   "id": "e14a070f",
   "metadata": {},
   "source": [
    "さくっとデータ取得する場合、以下の２行でデータ取得とデータ加工ができます。"
   ]
  },
  {
   "cell_type": "code",
   "execution_count": null,
   "id": "9a9b1ef0",
   "metadata": {},
   "outputs": [],
   "source": [
    "import jpy_datareader as jdr\n",
    "\n",
    "df = jdr.get_data_estat_statsdata(api_key, statsDataId=\"0003000795\")\n",
    "df"
   ]
  },
  {
   "cell_type": "markdown",
   "id": "274b7b35",
   "metadata": {},
   "source": [
    "以下も同じ挙動です。"
   ]
  },
  {
   "cell_type": "code",
   "execution_count": null,
   "id": "b8b4ed35",
   "metadata": {},
   "outputs": [],
   "source": [
    "import jpy_datareader.data as web\n",
    "\n",
    "df = web.DataReader(\"0003000795\", \"estat\", api_key=api_key)\n",
    "df"
   ]
  },
  {
   "cell_type": "markdown",
   "id": "eb2d32e4",
   "metadata": {},
   "source": [
    "よくデータ取得に使われる[pandas-datareader](https://pandas-datareader.readthedocs.io/en/latest/)に仕様を似せています。"
   ]
  },
  {
   "cell_type": "code",
   "execution_count": null,
   "id": "f80a823e",
   "metadata": {},
   "outputs": [],
   "source": [
    "!pip install pandas-datareader"
   ]
  },
  {
   "cell_type": "code",
   "execution_count": null,
   "id": "09574591",
   "metadata": {},
   "outputs": [],
   "source": [
    "import pandas_datareader as pdr\n",
    "pdr.get_data_fred('GS10').tail(10)  # 10年満期米国債市場金利"
   ]
  },
  {
   "cell_type": "code",
   "execution_count": null,
   "id": "8d844484",
   "metadata": {},
   "outputs": [],
   "source": [
    "import pandas_datareader.data as web\n",
    "web.DataReader('TUD', 'oecd')  # 労働組合データ"
   ]
  },
  {
   "cell_type": "markdown",
   "id": "41b01bb0",
   "metadata": {},
   "source": [
    "もう少し細かく設定してデータ取得したい場合には、以下を使います。"
   ]
  },
  {
   "cell_type": "code",
   "execution_count": null,
   "id": "d1304def",
   "metadata": {},
   "outputs": [],
   "source": [
    "from jpy_datareader import estat\n",
    "\n",
    "statsdata = estat.StatsDataReader(api_key, statsDataId=\"0003000795\")\n",
    "df = statsdata.read()"
   ]
  },
  {
   "cell_type": "code",
   "execution_count": null,
   "id": "dcb79ceb",
   "metadata": {},
   "outputs": [],
   "source": []
  }
 ],
 "metadata": {
  "kernelspec": {
   "display_name": "Python 3 (ipykernel)",
   "language": "python",
   "name": "python3"
  },
  "language_info": {
   "codemirror_mode": {
    "name": "ipython",
    "version": 3
   },
   "file_extension": ".py",
   "mimetype": "text/x-python",
   "name": "python",
   "nbconvert_exporter": "python",
   "pygments_lexer": "ipython3",
   "version": "3.10.2"
  }
 },
 "nbformat": 4,
 "nbformat_minor": 5
}
